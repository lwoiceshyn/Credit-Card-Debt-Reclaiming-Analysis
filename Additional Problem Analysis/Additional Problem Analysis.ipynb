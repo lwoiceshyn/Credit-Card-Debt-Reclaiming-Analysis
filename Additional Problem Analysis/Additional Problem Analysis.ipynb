{
 "cells": [
  {
   "cell_type": "markdown",
   "metadata": {},
   "source": [
    "# Problem Statement\n",
    "We have created an extension of the data set that describes 55 agents and the 34103 calls that they have placed. Some debtors were called by multiple agents before they repaid or their account was abandoned. Figure out what to suggest to the collection agency, like you would if you work with us. This is purposely an open-ended question so we can see how you would approach the challenge: write a short essay about how you would tackle this challenge and implement a proof-of-concept script and/or visualization using the language and/or tools of your choice. Submit your write-up with any code and/or visualizations on another branch of the same github repository as part 2."
   ]
  },
  {
   "cell_type": "markdown",
   "metadata": {},
   "source": [
    "# Response and Analysis\n",
    "Due to the ambiguity of the question, some assumptions have to be made about the extended dataset described in the question. I'm going to assume that potentially I have features describing the calls being made, such as tone of voice, and call length, as well as features about each of the agents, such as age and gender. One of the key insights that we can get from this type of data is what the agents with the highest success rates in reclaiming the debt are doing to distinguish themselves from the rest of the agents, as well as what the features in each call that are the strongest predictors for whether a debt will be repaid or not.\n",
    "\n",
    "The first thing I would do is to analyze the problem of predicting whether the debt will be repaid or not given the features regarding the call made by the agent. This can be posed as a simple binary classification problem where given some information about the call made, whether the debt will be repaid or the account is abandoned can be predicted using a machine learning algorithm/statistical model. Rather than focusing on the classification itself, I would use the state-of-the-art feature selection algorithms to gather which features are the most important "
   ]
  },
  {
   "cell_type": "code",
   "execution_count": null,
   "metadata": {
    "collapsed": true
   },
   "outputs": [],
   "source": []
  }
 ],
 "metadata": {
  "kernelspec": {
   "display_name": "Python [conda root]",
   "language": "python",
   "name": "conda-root-py"
  },
  "language_info": {
   "codemirror_mode": {
    "name": "ipython",
    "version": 3
   },
   "file_extension": ".py",
   "mimetype": "text/x-python",
   "name": "python",
   "nbconvert_exporter": "python",
   "pygments_lexer": "ipython3",
   "version": "3.6.0"
  }
 },
 "nbformat": 4,
 "nbformat_minor": 2
}
