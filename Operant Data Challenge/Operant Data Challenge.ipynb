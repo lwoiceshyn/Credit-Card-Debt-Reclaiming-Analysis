{
 "cells": [
  {
   "cell_type": "markdown",
   "metadata": {},
   "source": [
    "# Operant Data Challenge\n",
    "\n",
    "Exploration of the call information of agents to debtors, and analysis on how these are affecting the success rates in successfully reclaiming debt.\n",
    "\n",
    "### Problem Statement\n",
    "We have created an extension of the data set that describes 55 agents and the 34103 calls that they have placed. Some debtors were called by multiple agents before they repaid or their account was abandoned. Figure out what to suggest to the collection agency, like you would if you work with us. This is purposely an open-ended question so we can see how you would approach the challenge: write a short essay about how you would tackle this challenge and implement a proof-of-concept script and/or visualization using the language and/or tools of your choice. Submit your write-up with any code and/or visualizations on another branch of the same github repository as part 2."
   ]
  },
  {
   "cell_type": "code",
   "execution_count": 1,
   "metadata": {
    "collapsed": true
   },
   "outputs": [],
   "source": [
    "import pandas as pd\n",
    "import numpy as np\n",
    "import seaborn as sns\n",
    "import matplotlib.pyplot as plt\n",
    "import matplotlib.gridspec as gridspec\n",
    "from sklearn.model_selection import train_test_split\n",
    "from sklearn.linear_model import LogisticRegression\n",
    "from sklearn.model_selection import GridSearchCV\n",
    "from sklearn.ensemble import RandomForestClassifier\n",
    "from sklearn.manifold import TSNE\n",
    "from sklearn.feature_selection import RFE\n",
    "from sklearn.feature_selection import SelectFromModel\n",
    "from sklearn.ensemble import ExtraTreesClassifier\n",
    "from sklearn.preprocessing import StandardScaler\n",
    "import xgboost as xgb\n",
    "from sklearn.metrics import accuracy_score\n",
    "from sklearn.model_selection import train_test_split\n",
    "import warnings\n",
    "warnings.filterwarnings(\"ignore\")\n",
    "%matplotlib inline"
   ]
  },
  {
   "cell_type": "code",
   "execution_count": 2,
   "metadata": {
    "collapsed": true
   },
   "outputs": [],
   "source": [
    "#Default Plot Settings\n",
    "sns.set_style(\"dark\")\n",
    "sns.set_context('talk')"
   ]
  },
  {
   "cell_type": "code",
   "execution_count": 3,
   "metadata": {
    "collapsed": true
   },
   "outputs": [],
   "source": [
    "agents = pd.read_csv('agents.csv')\n",
    "calls = pd.read_csv('calls.csv')\n",
    "collections = pd.read_csv('UCI_Credit_Card.csv')\n",
    "collections.rename(columns = {'default.payment.next.month':'default'}, inplace=True)"
   ]
  },
  {
   "cell_type": "code",
   "execution_count": 4,
   "metadata": {
    "collapsed": false
   },
   "outputs": [
    {
     "data": {
      "text/html": [
       "<div>\n",
       "<style>\n",
       "    .dataframe thead tr:only-child th {\n",
       "        text-align: right;\n",
       "    }\n",
       "\n",
       "    .dataframe thead th {\n",
       "        text-align: left;\n",
       "    }\n",
       "\n",
       "    .dataframe tbody tr th {\n",
       "        vertical-align: top;\n",
       "    }\n",
       "</style>\n",
       "<table border=\"1\" class=\"dataframe\">\n",
       "  <thead>\n",
       "    <tr style=\"text-align: right;\">\n",
       "      <th></th>\n",
       "      <th>id</th>\n",
       "      <th>name</th>\n",
       "      <th>hire_date</th>\n",
       "      <th>call_centre_id</th>\n",
       "      <th>supervisor_id</th>\n",
       "    </tr>\n",
       "  </thead>\n",
       "  <tbody>\n",
       "    <tr>\n",
       "      <th>0</th>\n",
       "      <td>1000</td>\n",
       "      <td>Steven Lindsey</td>\n",
       "      <td>05-16-11</td>\n",
       "      <td>1</td>\n",
       "      <td>4</td>\n",
       "    </tr>\n",
       "    <tr>\n",
       "      <th>1</th>\n",
       "      <td>1001</td>\n",
       "      <td>James Allen</td>\n",
       "      <td>06-02-14</td>\n",
       "      <td>3</td>\n",
       "      <td>8</td>\n",
       "    </tr>\n",
       "    <tr>\n",
       "      <th>2</th>\n",
       "      <td>1002</td>\n",
       "      <td>Isaac Luna</td>\n",
       "      <td>06-04-14</td>\n",
       "      <td>1</td>\n",
       "      <td>3</td>\n",
       "    </tr>\n",
       "    <tr>\n",
       "      <th>3</th>\n",
       "      <td>1003</td>\n",
       "      <td>Jonathan Sullivan</td>\n",
       "      <td>01-23-14</td>\n",
       "      <td>4</td>\n",
       "      <td>9</td>\n",
       "    </tr>\n",
       "    <tr>\n",
       "      <th>4</th>\n",
       "      <td>1004</td>\n",
       "      <td>Lisa Pittman</td>\n",
       "      <td>12-12-14</td>\n",
       "      <td>4</td>\n",
       "      <td>9</td>\n",
       "    </tr>\n",
       "  </tbody>\n",
       "</table>\n",
       "</div>"
      ],
      "text/plain": [
       "     id               name hire_date  call_centre_id  supervisor_id\n",
       "0  1000     Steven Lindsey  05-16-11               1              4\n",
       "1  1001        James Allen  06-02-14               3              8\n",
       "2  1002         Isaac Luna  06-04-14               1              3\n",
       "3  1003  Jonathan Sullivan  01-23-14               4              9\n",
       "4  1004       Lisa Pittman  12-12-14               4              9"
      ]
     },
     "execution_count": 4,
     "metadata": {},
     "output_type": "execute_result"
    }
   ],
   "source": [
    "agents.head()"
   ]
  },
  {
   "cell_type": "code",
   "execution_count": 5,
   "metadata": {
    "collapsed": false
   },
   "outputs": [
    {
     "data": {
      "text/html": [
       "<div>\n",
       "<style>\n",
       "    .dataframe thead tr:only-child th {\n",
       "        text-align: right;\n",
       "    }\n",
       "\n",
       "    .dataframe thead th {\n",
       "        text-align: left;\n",
       "    }\n",
       "\n",
       "    .dataframe tbody tr th {\n",
       "        vertical-align: top;\n",
       "    }\n",
       "</style>\n",
       "<table border=\"1\" class=\"dataframe\">\n",
       "  <thead>\n",
       "    <tr style=\"text-align: right;\">\n",
       "      <th></th>\n",
       "      <th>agent_id</th>\n",
       "      <th>debtor_id</th>\n",
       "    </tr>\n",
       "  </thead>\n",
       "  <tbody>\n",
       "    <tr>\n",
       "      <th>0</th>\n",
       "      <td>1000</td>\n",
       "      <td>17</td>\n",
       "    </tr>\n",
       "    <tr>\n",
       "      <th>1</th>\n",
       "      <td>1000</td>\n",
       "      <td>19</td>\n",
       "    </tr>\n",
       "    <tr>\n",
       "      <th>2</th>\n",
       "      <td>1000</td>\n",
       "      <td>50</td>\n",
       "    </tr>\n",
       "    <tr>\n",
       "      <th>3</th>\n",
       "      <td>1000</td>\n",
       "      <td>99</td>\n",
       "    </tr>\n",
       "    <tr>\n",
       "      <th>4</th>\n",
       "      <td>1000</td>\n",
       "      <td>145</td>\n",
       "    </tr>\n",
       "  </tbody>\n",
       "</table>\n",
       "</div>"
      ],
      "text/plain": [
       "   agent_id  debtor_id\n",
       "0      1000         17\n",
       "1      1000         19\n",
       "2      1000         50\n",
       "3      1000         99\n",
       "4      1000        145"
      ]
     },
     "execution_count": 5,
     "metadata": {},
     "output_type": "execute_result"
    }
   ],
   "source": [
    "calls.head()"
   ]
  },
  {
   "cell_type": "code",
   "execution_count": 6,
   "metadata": {
    "collapsed": false
   },
   "outputs": [
    {
     "data": {
      "text/html": [
       "<div>\n",
       "<style>\n",
       "    .dataframe thead tr:only-child th {\n",
       "        text-align: right;\n",
       "    }\n",
       "\n",
       "    .dataframe thead th {\n",
       "        text-align: left;\n",
       "    }\n",
       "\n",
       "    .dataframe tbody tr th {\n",
       "        vertical-align: top;\n",
       "    }\n",
       "</style>\n",
       "<table border=\"1\" class=\"dataframe\">\n",
       "  <thead>\n",
       "    <tr style=\"text-align: right;\">\n",
       "      <th></th>\n",
       "      <th>ID</th>\n",
       "      <th>LIMIT_BAL</th>\n",
       "      <th>SEX</th>\n",
       "      <th>EDUCATION</th>\n",
       "      <th>MARRIAGE</th>\n",
       "      <th>AGE</th>\n",
       "      <th>PAY_0</th>\n",
       "      <th>PAY_2</th>\n",
       "      <th>PAY_3</th>\n",
       "      <th>PAY_4</th>\n",
       "      <th>...</th>\n",
       "      <th>BILL_AMT4</th>\n",
       "      <th>BILL_AMT5</th>\n",
       "      <th>BILL_AMT6</th>\n",
       "      <th>PAY_AMT1</th>\n",
       "      <th>PAY_AMT2</th>\n",
       "      <th>PAY_AMT3</th>\n",
       "      <th>PAY_AMT4</th>\n",
       "      <th>PAY_AMT5</th>\n",
       "      <th>PAY_AMT6</th>\n",
       "      <th>default</th>\n",
       "    </tr>\n",
       "  </thead>\n",
       "  <tbody>\n",
       "    <tr>\n",
       "      <th>0</th>\n",
       "      <td>1</td>\n",
       "      <td>20000.0</td>\n",
       "      <td>2</td>\n",
       "      <td>2</td>\n",
       "      <td>1</td>\n",
       "      <td>24</td>\n",
       "      <td>2</td>\n",
       "      <td>2</td>\n",
       "      <td>-1</td>\n",
       "      <td>-1</td>\n",
       "      <td>...</td>\n",
       "      <td>0.0</td>\n",
       "      <td>0.0</td>\n",
       "      <td>0.0</td>\n",
       "      <td>0.0</td>\n",
       "      <td>689.0</td>\n",
       "      <td>0.0</td>\n",
       "      <td>0.0</td>\n",
       "      <td>0.0</td>\n",
       "      <td>0.0</td>\n",
       "      <td>1</td>\n",
       "    </tr>\n",
       "    <tr>\n",
       "      <th>1</th>\n",
       "      <td>2</td>\n",
       "      <td>120000.0</td>\n",
       "      <td>2</td>\n",
       "      <td>2</td>\n",
       "      <td>2</td>\n",
       "      <td>26</td>\n",
       "      <td>-1</td>\n",
       "      <td>2</td>\n",
       "      <td>0</td>\n",
       "      <td>0</td>\n",
       "      <td>...</td>\n",
       "      <td>3272.0</td>\n",
       "      <td>3455.0</td>\n",
       "      <td>3261.0</td>\n",
       "      <td>0.0</td>\n",
       "      <td>1000.0</td>\n",
       "      <td>1000.0</td>\n",
       "      <td>1000.0</td>\n",
       "      <td>0.0</td>\n",
       "      <td>2000.0</td>\n",
       "      <td>1</td>\n",
       "    </tr>\n",
       "    <tr>\n",
       "      <th>2</th>\n",
       "      <td>3</td>\n",
       "      <td>90000.0</td>\n",
       "      <td>2</td>\n",
       "      <td>2</td>\n",
       "      <td>2</td>\n",
       "      <td>34</td>\n",
       "      <td>0</td>\n",
       "      <td>0</td>\n",
       "      <td>0</td>\n",
       "      <td>0</td>\n",
       "      <td>...</td>\n",
       "      <td>14331.0</td>\n",
       "      <td>14948.0</td>\n",
       "      <td>15549.0</td>\n",
       "      <td>1518.0</td>\n",
       "      <td>1500.0</td>\n",
       "      <td>1000.0</td>\n",
       "      <td>1000.0</td>\n",
       "      <td>1000.0</td>\n",
       "      <td>5000.0</td>\n",
       "      <td>0</td>\n",
       "    </tr>\n",
       "    <tr>\n",
       "      <th>3</th>\n",
       "      <td>4</td>\n",
       "      <td>50000.0</td>\n",
       "      <td>2</td>\n",
       "      <td>2</td>\n",
       "      <td>1</td>\n",
       "      <td>37</td>\n",
       "      <td>0</td>\n",
       "      <td>0</td>\n",
       "      <td>0</td>\n",
       "      <td>0</td>\n",
       "      <td>...</td>\n",
       "      <td>28314.0</td>\n",
       "      <td>28959.0</td>\n",
       "      <td>29547.0</td>\n",
       "      <td>2000.0</td>\n",
       "      <td>2019.0</td>\n",
       "      <td>1200.0</td>\n",
       "      <td>1100.0</td>\n",
       "      <td>1069.0</td>\n",
       "      <td>1000.0</td>\n",
       "      <td>0</td>\n",
       "    </tr>\n",
       "    <tr>\n",
       "      <th>4</th>\n",
       "      <td>5</td>\n",
       "      <td>50000.0</td>\n",
       "      <td>1</td>\n",
       "      <td>2</td>\n",
       "      <td>1</td>\n",
       "      <td>57</td>\n",
       "      <td>-1</td>\n",
       "      <td>0</td>\n",
       "      <td>-1</td>\n",
       "      <td>0</td>\n",
       "      <td>...</td>\n",
       "      <td>20940.0</td>\n",
       "      <td>19146.0</td>\n",
       "      <td>19131.0</td>\n",
       "      <td>2000.0</td>\n",
       "      <td>36681.0</td>\n",
       "      <td>10000.0</td>\n",
       "      <td>9000.0</td>\n",
       "      <td>689.0</td>\n",
       "      <td>679.0</td>\n",
       "      <td>0</td>\n",
       "    </tr>\n",
       "  </tbody>\n",
       "</table>\n",
       "<p>5 rows × 25 columns</p>\n",
       "</div>"
      ],
      "text/plain": [
       "   ID  LIMIT_BAL  SEX  EDUCATION  MARRIAGE  AGE  PAY_0  PAY_2  PAY_3  PAY_4  \\\n",
       "0   1    20000.0    2          2         1   24      2      2     -1     -1   \n",
       "1   2   120000.0    2          2         2   26     -1      2      0      0   \n",
       "2   3    90000.0    2          2         2   34      0      0      0      0   \n",
       "3   4    50000.0    2          2         1   37      0      0      0      0   \n",
       "4   5    50000.0    1          2         1   57     -1      0     -1      0   \n",
       "\n",
       "    ...     BILL_AMT4  BILL_AMT5  BILL_AMT6  PAY_AMT1  PAY_AMT2  PAY_AMT3  \\\n",
       "0   ...           0.0        0.0        0.0       0.0     689.0       0.0   \n",
       "1   ...        3272.0     3455.0     3261.0       0.0    1000.0    1000.0   \n",
       "2   ...       14331.0    14948.0    15549.0    1518.0    1500.0    1000.0   \n",
       "3   ...       28314.0    28959.0    29547.0    2000.0    2019.0    1200.0   \n",
       "4   ...       20940.0    19146.0    19131.0    2000.0   36681.0   10000.0   \n",
       "\n",
       "   PAY_AMT4  PAY_AMT5  PAY_AMT6  default  \n",
       "0       0.0       0.0       0.0        1  \n",
       "1    1000.0       0.0    2000.0        1  \n",
       "2    1000.0    1000.0    5000.0        0  \n",
       "3    1100.0    1069.0    1000.0        0  \n",
       "4    9000.0     689.0     679.0        0  \n",
       "\n",
       "[5 rows x 25 columns]"
      ]
     },
     "execution_count": 6,
     "metadata": {},
     "output_type": "execute_result"
    }
   ],
   "source": [
    "collections.head()"
   ]
  },
  {
   "cell_type": "code",
   "execution_count": 7,
   "metadata": {
    "collapsed": false
   },
   "outputs": [],
   "source": [
    "#Adding an agents column to the Kaggle dataset\n",
    "debtor_to_agent = {}\n",
    "for index, row in calls.iterrows():\n",
    "    debtor_to_agent[row['debtor_id']] = row['agent_id']\n",
    "\n",
    "agents_list = []\n",
    "for item in list(collections['ID']):\n",
    "    try:\n",
    "        agents_list.append(debtor_to_agent[item])\n",
    "    except:\n",
    "        agents_list.append(0)\n",
    "    \n",
    "collections['agent'] = agents_list"
   ]
  },
  {
   "cell_type": "code",
   "execution_count": 8,
   "metadata": {
    "collapsed": false
   },
   "outputs": [
    {
     "data": {
      "text/html": [
       "<div>\n",
       "<style>\n",
       "    .dataframe thead tr:only-child th {\n",
       "        text-align: right;\n",
       "    }\n",
       "\n",
       "    .dataframe thead th {\n",
       "        text-align: left;\n",
       "    }\n",
       "\n",
       "    .dataframe tbody tr th {\n",
       "        vertical-align: top;\n",
       "    }\n",
       "</style>\n",
       "<table border=\"1\" class=\"dataframe\">\n",
       "  <thead>\n",
       "    <tr style=\"text-align: right;\">\n",
       "      <th></th>\n",
       "      <th>ID</th>\n",
       "      <th>LIMIT_BAL</th>\n",
       "      <th>SEX</th>\n",
       "      <th>EDUCATION</th>\n",
       "      <th>MARRIAGE</th>\n",
       "      <th>AGE</th>\n",
       "      <th>PAY_0</th>\n",
       "      <th>PAY_2</th>\n",
       "      <th>PAY_3</th>\n",
       "      <th>PAY_4</th>\n",
       "      <th>...</th>\n",
       "      <th>BILL_AMT5</th>\n",
       "      <th>BILL_AMT6</th>\n",
       "      <th>PAY_AMT1</th>\n",
       "      <th>PAY_AMT2</th>\n",
       "      <th>PAY_AMT3</th>\n",
       "      <th>PAY_AMT4</th>\n",
       "      <th>PAY_AMT5</th>\n",
       "      <th>PAY_AMT6</th>\n",
       "      <th>default</th>\n",
       "      <th>agent</th>\n",
       "    </tr>\n",
       "  </thead>\n",
       "  <tbody>\n",
       "    <tr>\n",
       "      <th>0</th>\n",
       "      <td>1</td>\n",
       "      <td>20000.0</td>\n",
       "      <td>2</td>\n",
       "      <td>2</td>\n",
       "      <td>1</td>\n",
       "      <td>24</td>\n",
       "      <td>2</td>\n",
       "      <td>2</td>\n",
       "      <td>-1</td>\n",
       "      <td>-1</td>\n",
       "      <td>...</td>\n",
       "      <td>0.0</td>\n",
       "      <td>0.0</td>\n",
       "      <td>0.0</td>\n",
       "      <td>689.0</td>\n",
       "      <td>0.0</td>\n",
       "      <td>0.0</td>\n",
       "      <td>0.0</td>\n",
       "      <td>0.0</td>\n",
       "      <td>1</td>\n",
       "      <td>1032</td>\n",
       "    </tr>\n",
       "    <tr>\n",
       "      <th>1</th>\n",
       "      <td>2</td>\n",
       "      <td>120000.0</td>\n",
       "      <td>2</td>\n",
       "      <td>2</td>\n",
       "      <td>2</td>\n",
       "      <td>26</td>\n",
       "      <td>-1</td>\n",
       "      <td>2</td>\n",
       "      <td>0</td>\n",
       "      <td>0</td>\n",
       "      <td>...</td>\n",
       "      <td>3455.0</td>\n",
       "      <td>3261.0</td>\n",
       "      <td>0.0</td>\n",
       "      <td>1000.0</td>\n",
       "      <td>1000.0</td>\n",
       "      <td>1000.0</td>\n",
       "      <td>0.0</td>\n",
       "      <td>2000.0</td>\n",
       "      <td>1</td>\n",
       "      <td>1050</td>\n",
       "    </tr>\n",
       "    <tr>\n",
       "      <th>2</th>\n",
       "      <td>3</td>\n",
       "      <td>90000.0</td>\n",
       "      <td>2</td>\n",
       "      <td>2</td>\n",
       "      <td>2</td>\n",
       "      <td>34</td>\n",
       "      <td>0</td>\n",
       "      <td>0</td>\n",
       "      <td>0</td>\n",
       "      <td>0</td>\n",
       "      <td>...</td>\n",
       "      <td>14948.0</td>\n",
       "      <td>15549.0</td>\n",
       "      <td>1518.0</td>\n",
       "      <td>1500.0</td>\n",
       "      <td>1000.0</td>\n",
       "      <td>1000.0</td>\n",
       "      <td>1000.0</td>\n",
       "      <td>5000.0</td>\n",
       "      <td>0</td>\n",
       "      <td>0</td>\n",
       "    </tr>\n",
       "    <tr>\n",
       "      <th>3</th>\n",
       "      <td>4</td>\n",
       "      <td>50000.0</td>\n",
       "      <td>2</td>\n",
       "      <td>2</td>\n",
       "      <td>1</td>\n",
       "      <td>37</td>\n",
       "      <td>0</td>\n",
       "      <td>0</td>\n",
       "      <td>0</td>\n",
       "      <td>0</td>\n",
       "      <td>...</td>\n",
       "      <td>28959.0</td>\n",
       "      <td>29547.0</td>\n",
       "      <td>2000.0</td>\n",
       "      <td>2019.0</td>\n",
       "      <td>1200.0</td>\n",
       "      <td>1100.0</td>\n",
       "      <td>1069.0</td>\n",
       "      <td>1000.0</td>\n",
       "      <td>0</td>\n",
       "      <td>1014</td>\n",
       "    </tr>\n",
       "    <tr>\n",
       "      <th>4</th>\n",
       "      <td>5</td>\n",
       "      <td>50000.0</td>\n",
       "      <td>1</td>\n",
       "      <td>2</td>\n",
       "      <td>1</td>\n",
       "      <td>57</td>\n",
       "      <td>-1</td>\n",
       "      <td>0</td>\n",
       "      <td>-1</td>\n",
       "      <td>0</td>\n",
       "      <td>...</td>\n",
       "      <td>19146.0</td>\n",
       "      <td>19131.0</td>\n",
       "      <td>2000.0</td>\n",
       "      <td>36681.0</td>\n",
       "      <td>10000.0</td>\n",
       "      <td>9000.0</td>\n",
       "      <td>689.0</td>\n",
       "      <td>679.0</td>\n",
       "      <td>0</td>\n",
       "      <td>0</td>\n",
       "    </tr>\n",
       "  </tbody>\n",
       "</table>\n",
       "<p>5 rows × 26 columns</p>\n",
       "</div>"
      ],
      "text/plain": [
       "   ID  LIMIT_BAL  SEX  EDUCATION  MARRIAGE  AGE  PAY_0  PAY_2  PAY_3  PAY_4  \\\n",
       "0   1    20000.0    2          2         1   24      2      2     -1     -1   \n",
       "1   2   120000.0    2          2         2   26     -1      2      0      0   \n",
       "2   3    90000.0    2          2         2   34      0      0      0      0   \n",
       "3   4    50000.0    2          2         1   37      0      0      0      0   \n",
       "4   5    50000.0    1          2         1   57     -1      0     -1      0   \n",
       "\n",
       "   ...    BILL_AMT5  BILL_AMT6  PAY_AMT1  PAY_AMT2  PAY_AMT3  PAY_AMT4  \\\n",
       "0  ...          0.0        0.0       0.0     689.0       0.0       0.0   \n",
       "1  ...       3455.0     3261.0       0.0    1000.0    1000.0    1000.0   \n",
       "2  ...      14948.0    15549.0    1518.0    1500.0    1000.0    1000.0   \n",
       "3  ...      28959.0    29547.0    2000.0    2019.0    1200.0    1100.0   \n",
       "4  ...      19146.0    19131.0    2000.0   36681.0   10000.0    9000.0   \n",
       "\n",
       "   PAY_AMT5  PAY_AMT6  default  agent  \n",
       "0       0.0       0.0        1   1032  \n",
       "1       0.0    2000.0        1   1050  \n",
       "2    1000.0    5000.0        0      0  \n",
       "3    1069.0    1000.0        0   1014  \n",
       "4     689.0     679.0        0      0  \n",
       "\n",
       "[5 rows x 26 columns]"
      ]
     },
     "execution_count": 8,
     "metadata": {},
     "output_type": "execute_result"
    }
   ],
   "source": [
    "collections.head()"
   ]
  },
  {
   "cell_type": "code",
   "execution_count": 9,
   "metadata": {
    "collapsed": true
   },
   "outputs": [],
   "source": [
    "collections = collections[collections.agent != 0]"
   ]
  },
  {
   "cell_type": "markdown",
   "metadata": {},
   "source": [
    "# Initial Data Exploration and Visualization\n",
    "Finding some general statistics regarding debtors defaulting based on phone calls that they received from the agents."
   ]
  },
  {
   "cell_type": "code",
   "execution_count": 10,
   "metadata": {
    "collapsed": false
   },
   "outputs": [],
   "source": [
    "#Gathering statistics of the success rates of reclaiming debt based on the agent, call centre, and supervisor id\n",
    "stats = collections[['default', 'agent']]\n",
    "\n",
    "agent_to_callcentre = {}\n",
    "agent_to_name = {}\n",
    "agent_to_supervisor = {}\n",
    "for index, row in agents.iterrows():\n",
    "    agent_to_callcentre[row['id']] = row['call_centre_id']\n",
    "    agent_to_name[row['id']] = row['name']\n",
    "    agent_to_supervisor[row['id']] = row['supervisor_id']\n",
    "\n",
    "callcentres = []\n",
    "names = []\n",
    "supervisors = []\n",
    "\n",
    "\n",
    "for item in list(stats['agent']):\n",
    "     callcentres.append(agent_to_callcentre[item])\n",
    "     names.append(agent_to_name[item])\n",
    "     supervisors.append(agent_to_supervisor[item])\n",
    "    \n",
    "stats['call_centre_id'] = callcentres\n",
    "stats['supervisor_id'] = supervisors\n",
    "stats['name'] = names"
   ]
  },
  {
   "cell_type": "code",
   "execution_count": 11,
   "metadata": {
    "collapsed": false
   },
   "outputs": [
    {
     "data": {
      "text/html": [
       "<div>\n",
       "<style>\n",
       "    .dataframe thead tr:only-child th {\n",
       "        text-align: right;\n",
       "    }\n",
       "\n",
       "    .dataframe thead th {\n",
       "        text-align: left;\n",
       "    }\n",
       "\n",
       "    .dataframe tbody tr th {\n",
       "        vertical-align: top;\n",
       "    }\n",
       "</style>\n",
       "<table border=\"1\" class=\"dataframe\">\n",
       "  <thead>\n",
       "    <tr style=\"text-align: right;\">\n",
       "      <th></th>\n",
       "      <th>default</th>\n",
       "      <th>agent</th>\n",
       "      <th>call_centre_id</th>\n",
       "      <th>supervisor_id</th>\n",
       "      <th>name</th>\n",
       "    </tr>\n",
       "  </thead>\n",
       "  <tbody>\n",
       "    <tr>\n",
       "      <th>0</th>\n",
       "      <td>1</td>\n",
       "      <td>1032</td>\n",
       "      <td>1</td>\n",
       "      <td>3</td>\n",
       "      <td>David Roberts</td>\n",
       "    </tr>\n",
       "    <tr>\n",
       "      <th>1</th>\n",
       "      <td>1</td>\n",
       "      <td>1050</td>\n",
       "      <td>2</td>\n",
       "      <td>5</td>\n",
       "      <td>David Butler</td>\n",
       "    </tr>\n",
       "    <tr>\n",
       "      <th>3</th>\n",
       "      <td>0</td>\n",
       "      <td>1014</td>\n",
       "      <td>3</td>\n",
       "      <td>7</td>\n",
       "      <td>Angela Lara</td>\n",
       "    </tr>\n",
       "    <tr>\n",
       "      <th>5</th>\n",
       "      <td>0</td>\n",
       "      <td>1032</td>\n",
       "      <td>1</td>\n",
       "      <td>3</td>\n",
       "      <td>David Roberts</td>\n",
       "    </tr>\n",
       "    <tr>\n",
       "      <th>7</th>\n",
       "      <td>0</td>\n",
       "      <td>1053</td>\n",
       "      <td>4</td>\n",
       "      <td>9</td>\n",
       "      <td>Tammy Mosley</td>\n",
       "    </tr>\n",
       "  </tbody>\n",
       "</table>\n",
       "</div>"
      ],
      "text/plain": [
       "   default  agent  call_centre_id  supervisor_id           name\n",
       "0        1   1032               1              3  David Roberts\n",
       "1        1   1050               2              5   David Butler\n",
       "3        0   1014               3              7    Angela Lara\n",
       "5        0   1032               1              3  David Roberts\n",
       "7        0   1053               4              9   Tammy Mosley"
      ]
     },
     "execution_count": 11,
     "metadata": {},
     "output_type": "execute_result"
    }
   ],
   "source": [
    "stats.head()"
   ]
  },
  {
   "cell_type": "markdown",
   "metadata": {},
   "source": [
    "Now we have a nice dataframe that we can use to get some general statistics regarding only the agents, call centres, and supervisors."
   ]
  },
  {
   "cell_type": "code",
   "execution_count": 12,
   "metadata": {
    "collapsed": false
   },
   "outputs": [],
   "source": [
    "agent_grouping = stats.groupby('agent', as_index=False)['default'].sum()\n",
    "counts = stats.groupby('agent').size()\n",
    "agent_grouping['total'] = list(counts)\n",
    "agent_grouping['success_ratio'] = 1 - (agent_grouping['default'] / agent_grouping['total'])\n",
    "names = []\n",
    "for item in list(agent_grouping['agent']):\n",
    "    names.append(agent_to_name[item])\n",
    "agent_grouping['name'] = names\n",
    "\n",
    "\n",
    "callcentre_grouping = stats.groupby('call_centre_id', as_index=False)['default'].sum()\n",
    "counts = stats.groupby('call_centre_id').size()\n",
    "callcentre_grouping['total'] = list(counts)\n",
    "callcentre_grouping['success_ratio'] = 1 - (callcentre_grouping['default'] / callcentre_grouping['total'])\n",
    "\n",
    "supervisor_grouping = stats.groupby('supervisor_id', as_index=False)['default'].sum()\n",
    "counts = stats.groupby('supervisor_id').size()\n",
    "supervisor_grouping['total'] = list(counts)\n",
    "supervisor_grouping['success_ratio'] = 1 - (supervisor_grouping['default'] / supervisor_grouping['total'])"
   ]
  },
  {
   "cell_type": "code",
   "execution_count": 13,
   "metadata": {
    "collapsed": false
   },
   "outputs": [
    {
     "data": {
      "text/html": [
       "<div>\n",
       "<style>\n",
       "    .dataframe thead tr:only-child th {\n",
       "        text-align: right;\n",
       "    }\n",
       "\n",
       "    .dataframe thead th {\n",
       "        text-align: left;\n",
       "    }\n",
       "\n",
       "    .dataframe tbody tr th {\n",
       "        vertical-align: top;\n",
       "    }\n",
       "</style>\n",
       "<table border=\"1\" class=\"dataframe\">\n",
       "  <thead>\n",
       "    <tr style=\"text-align: right;\">\n",
       "      <th></th>\n",
       "      <th>agent</th>\n",
       "      <th>default</th>\n",
       "      <th>total</th>\n",
       "      <th>success_ratio</th>\n",
       "      <th>name</th>\n",
       "    </tr>\n",
       "  </thead>\n",
       "  <tbody>\n",
       "    <tr>\n",
       "      <th>0</th>\n",
       "      <td>1000</td>\n",
       "      <td>110</td>\n",
       "      <td>275</td>\n",
       "      <td>0.600000</td>\n",
       "      <td>Steven Lindsey</td>\n",
       "    </tr>\n",
       "    <tr>\n",
       "      <th>1</th>\n",
       "      <td>1001</td>\n",
       "      <td>52</td>\n",
       "      <td>134</td>\n",
       "      <td>0.611940</td>\n",
       "      <td>James Allen</td>\n",
       "    </tr>\n",
       "    <tr>\n",
       "      <th>2</th>\n",
       "      <td>1002</td>\n",
       "      <td>38</td>\n",
       "      <td>147</td>\n",
       "      <td>0.741497</td>\n",
       "      <td>Isaac Luna</td>\n",
       "    </tr>\n",
       "    <tr>\n",
       "      <th>3</th>\n",
       "      <td>1003</td>\n",
       "      <td>29</td>\n",
       "      <td>231</td>\n",
       "      <td>0.874459</td>\n",
       "      <td>Jonathan Sullivan</td>\n",
       "    </tr>\n",
       "    <tr>\n",
       "      <th>4</th>\n",
       "      <td>1004</td>\n",
       "      <td>30</td>\n",
       "      <td>191</td>\n",
       "      <td>0.842932</td>\n",
       "      <td>Lisa Pittman</td>\n",
       "    </tr>\n",
       "  </tbody>\n",
       "</table>\n",
       "</div>"
      ],
      "text/plain": [
       "   agent  default  total  success_ratio               name\n",
       "0   1000      110    275       0.600000     Steven Lindsey\n",
       "1   1001       52    134       0.611940        James Allen\n",
       "2   1002       38    147       0.741497         Isaac Luna\n",
       "3   1003       29    231       0.874459  Jonathan Sullivan\n",
       "4   1004       30    191       0.842932       Lisa Pittman"
      ]
     },
     "execution_count": 13,
     "metadata": {},
     "output_type": "execute_result"
    }
   ],
   "source": [
    "agent_grouping.head()"
   ]
  },
  {
   "cell_type": "code",
   "execution_count": 14,
   "metadata": {
    "collapsed": false
   },
   "outputs": [
    {
     "data": {
      "text/html": [
       "<div>\n",
       "<style>\n",
       "    .dataframe thead tr:only-child th {\n",
       "        text-align: right;\n",
       "    }\n",
       "\n",
       "    .dataframe thead th {\n",
       "        text-align: left;\n",
       "    }\n",
       "\n",
       "    .dataframe tbody tr th {\n",
       "        vertical-align: top;\n",
       "    }\n",
       "</style>\n",
       "<table border=\"1\" class=\"dataframe\">\n",
       "  <thead>\n",
       "    <tr style=\"text-align: right;\">\n",
       "      <th></th>\n",
       "      <th>call_centre_id</th>\n",
       "      <th>default</th>\n",
       "      <th>total</th>\n",
       "      <th>success_ratio</th>\n",
       "    </tr>\n",
       "  </thead>\n",
       "  <tbody>\n",
       "    <tr>\n",
       "      <th>0</th>\n",
       "      <td>1</td>\n",
       "      <td>1449</td>\n",
       "      <td>4151</td>\n",
       "      <td>0.650927</td>\n",
       "    </tr>\n",
       "    <tr>\n",
       "      <th>1</th>\n",
       "      <td>2</td>\n",
       "      <td>1023</td>\n",
       "      <td>2589</td>\n",
       "      <td>0.604867</td>\n",
       "    </tr>\n",
       "    <tr>\n",
       "      <th>2</th>\n",
       "      <td>3</td>\n",
       "      <td>1473</td>\n",
       "      <td>5667</td>\n",
       "      <td>0.740074</td>\n",
       "    </tr>\n",
       "    <tr>\n",
       "      <th>3</th>\n",
       "      <td>4</td>\n",
       "      <td>788</td>\n",
       "      <td>8103</td>\n",
       "      <td>0.902752</td>\n",
       "    </tr>\n",
       "  </tbody>\n",
       "</table>\n",
       "</div>"
      ],
      "text/plain": [
       "   call_centre_id  default  total  success_ratio\n",
       "0               1     1449   4151       0.650927\n",
       "1               2     1023   2589       0.604867\n",
       "2               3     1473   5667       0.740074\n",
       "3               4      788   8103       0.902752"
      ]
     },
     "execution_count": 14,
     "metadata": {},
     "output_type": "execute_result"
    }
   ],
   "source": [
    "callcentre_grouping"
   ]
  },
  {
   "cell_type": "code",
   "execution_count": 15,
   "metadata": {
    "collapsed": false
   },
   "outputs": [
    {
     "data": {
      "text/html": [
       "<div>\n",
       "<style>\n",
       "    .dataframe thead tr:only-child th {\n",
       "        text-align: right;\n",
       "    }\n",
       "\n",
       "    .dataframe thead th {\n",
       "        text-align: left;\n",
       "    }\n",
       "\n",
       "    .dataframe tbody tr th {\n",
       "        vertical-align: top;\n",
       "    }\n",
       "</style>\n",
       "<table border=\"1\" class=\"dataframe\">\n",
       "  <thead>\n",
       "    <tr style=\"text-align: right;\">\n",
       "      <th></th>\n",
       "      <th>supervisor_id</th>\n",
       "      <th>default</th>\n",
       "      <th>total</th>\n",
       "      <th>success_ratio</th>\n",
       "    </tr>\n",
       "  </thead>\n",
       "  <tbody>\n",
       "    <tr>\n",
       "      <th>0</th>\n",
       "      <td>3</td>\n",
       "      <td>589</td>\n",
       "      <td>1826</td>\n",
       "      <td>0.677437</td>\n",
       "    </tr>\n",
       "    <tr>\n",
       "      <th>1</th>\n",
       "      <td>4</td>\n",
       "      <td>860</td>\n",
       "      <td>2325</td>\n",
       "      <td>0.630108</td>\n",
       "    </tr>\n",
       "    <tr>\n",
       "      <th>2</th>\n",
       "      <td>5</td>\n",
       "      <td>528</td>\n",
       "      <td>1495</td>\n",
       "      <td>0.646823</td>\n",
       "    </tr>\n",
       "    <tr>\n",
       "      <th>3</th>\n",
       "      <td>6</td>\n",
       "      <td>495</td>\n",
       "      <td>1094</td>\n",
       "      <td>0.547532</td>\n",
       "    </tr>\n",
       "    <tr>\n",
       "      <th>4</th>\n",
       "      <td>7</td>\n",
       "      <td>264</td>\n",
       "      <td>2651</td>\n",
       "      <td>0.900415</td>\n",
       "    </tr>\n",
       "    <tr>\n",
       "      <th>5</th>\n",
       "      <td>8</td>\n",
       "      <td>1209</td>\n",
       "      <td>3016</td>\n",
       "      <td>0.599138</td>\n",
       "    </tr>\n",
       "    <tr>\n",
       "      <th>6</th>\n",
       "      <td>9</td>\n",
       "      <td>467</td>\n",
       "      <td>3593</td>\n",
       "      <td>0.870025</td>\n",
       "    </tr>\n",
       "    <tr>\n",
       "      <th>7</th>\n",
       "      <td>10</td>\n",
       "      <td>321</td>\n",
       "      <td>4510</td>\n",
       "      <td>0.928825</td>\n",
       "    </tr>\n",
       "  </tbody>\n",
       "</table>\n",
       "</div>"
      ],
      "text/plain": [
       "   supervisor_id  default  total  success_ratio\n",
       "0              3      589   1826       0.677437\n",
       "1              4      860   2325       0.630108\n",
       "2              5      528   1495       0.646823\n",
       "3              6      495   1094       0.547532\n",
       "4              7      264   2651       0.900415\n",
       "5              8     1209   3016       0.599138\n",
       "6              9      467   3593       0.870025\n",
       "7             10      321   4510       0.928825"
      ]
     },
     "execution_count": 15,
     "metadata": {},
     "output_type": "execute_result"
    }
   ],
   "source": [
    "supervisor_grouping"
   ]
  },
  {
   "cell_type": "markdown",
   "metadata": {},
   "source": [
    "Some visualization of how each of the predictors is influencing the success rate of a debt being collected"
   ]
  },
  {
   "cell_type": "code",
   "execution_count": 16,
   "metadata": {
    "collapsed": true
   },
   "outputs": [],
   "source": [
    "#Sorting the agents by success rate\n",
    "agents_sorted = agent_grouping.sort_values(by='success_ratio', ascending=False)\n",
    "agents_sorted_amount = agent_grouping.sort_values(by='total', ascending=False)\n",
    "topten = agents_sorted[0:10]\n",
    "topten_amount = agents_sorted_amount[0:10]\n",
    "bottomten = agents_sorted[-11:-1]\n",
    "bottomten_amount = agents_sorted_amount[-11:-1]"
   ]
  },
  {
   "cell_type": "code",
   "execution_count": 17,
   "metadata": {
    "collapsed": false
   },
   "outputs": [
    {
     "data": {
      "image/png": "[encoded data removed]",
      "text/plain": [
       "<matplotlib.figure.Figure at 0x1c1de17c278>"
      ]
     },
     "metadata": {},
     "output_type": "display_data"
    }
   ],
   "source": [
    "plot = sns.barplot(x=topten.success_ratio, y=topten.name, orient='h', palette='muted')\n",
    "plot = plot.set(ylabel='Agent Name', xlabel='Success Ratio for Debt Recobery', title='Top 10 Agents by Success Ratio')"
   ]
  },
  {
   "cell_type": "code",
   "execution_count": 18,
   "metadata": {
    "collapsed": false
   },
   "outputs": [
    {
     "data": {
      "image/png": "[encoded data removed]",
      "text/plain": [
       "<matplotlib.figure.Figure at 0x1c1de28c400>"
      ]
     },
     "metadata": {},
     "output_type": "display_data"
    }
   ],
   "source": [
    "plot = sns.barplot(x=topten_amount.success_ratio, y=topten_amount.name, orient='h', palette='bright')\n",
    "plot = plot.set(ylabel='Agent Name', xlabel='Success Ratio for Loan Recovery', title='Success Ratio of Top Ten Agents by Total Calls')"
   ]
  },
  {
   "cell_type": "code",
   "execution_count": 19,
   "metadata": {
    "collapsed": false
   },
   "outputs": [
    {
     "data": {
      "image/png": "[encoded data removed]",
      "text/plain": [
       "<matplotlib.figure.Figure at 0x1c1deffc278>"
      ]
     },
     "metadata": {},
     "output_type": "display_data"
    }
   ],
   "source": [
    "plot = sns.barplot(x=bottomten.success_ratio, y=bottomten.name, orient='h', palette='muted')\n",
    "plot = plot.set(ylabel='Agent Name', xlabel='Success Ratio for Loan Recovery', title='Bottom 10 Agents by Success Ratio')"
   ]
  },
  {
   "cell_type": "code",
   "execution_count": 20,
   "metadata": {
    "collapsed": false
   },
   "outputs": [
    {
     "data": {
      "image/png": "[encoded data removed]",
      "text/plain": [
       "<matplotlib.figure.Figure at 0x1c1def8f748>"
      ]
     },
     "metadata": {},
     "output_type": "display_data"
    }
   ],
   "source": [
    "plot = sns.barplot(x=bottomten_amount.success_ratio, y=bottomten_amount.name, orient='h', palette='bright')\n",
    "plot = plot.set(ylabel='Agent Name', xlabel='Success Ratio for Loan Recobery', title='Success Ratio of Bottom Ten Agents by Total Calls')"
   ]
  },
  {
   "cell_type": "code",
   "execution_count": 21,
   "metadata": {
    "collapsed": false
   },
   "outputs": [],
   "source": [
    "#Sorting the call centres and supervisors by success rates\n",
    "callcentre_sorted = callcentre_grouping.sort_values(by='success_ratio', ascending=False)\n",
    "callcentre_sorted['call_centre_id'] = callcentre_sorted['call_centre_id'].astype(str)\n",
    "supervisor_sorted = supervisor_grouping.sort_values(by='success_ratio', ascending=False)\n",
    "supervisor_sorted['supervisor_id'] = supervisor_sorted['supervisor_id'].astype(str)"
   ]
  },
  {
   "cell_type": "code",
   "execution_count": 22,
   "metadata": {
    "collapsed": false
   },
   "outputs": [
    {
     "data": {
      "image/png": "[encoded data removed]",
      "text/plain": [
       "<matplotlib.figure.Figure at 0x1c1df572e48>"
      ]
     },
     "metadata": {},
     "output_type": "display_data"
    }
   ],
   "source": [
    "plot = sns.barplot(x=callcentre_sorted.success_ratio, y=callcentre_sorted.call_centre_id, orient='h', palette='pastel')\n",
    "plot = plot.set(xlabel='Success Ratio', ylabel='Call Centre ID', title='Success Ratio of Call Centres')"
   ]
  },
  {
   "cell_type": "code",
   "execution_count": 23,
   "metadata": {
    "collapsed": false,
    "scrolled": true
   },
   "outputs": [
    {
     "data": {
      "image/png": "[encoded data removed]",
      "text/plain": [
       "<matplotlib.figure.Figure at 0x1c1df5fe518>"
      ]
     },
     "metadata": {},
     "output_type": "display_data"
    }
   ],
   "source": [
    "plot = sns.barplot(x=supervisor_sorted.success_ratio, y=supervisor_sorted.supervisor_id, orient='h', palette='dark')\n",
    "plot = plot.set(xlabel='Success Ratio', ylabel='Supervisor ID', title='Success Ratio based on Supervisor')"
   ]
  },
  {
   "cell_type": "markdown",
   "metadata": {},
   "source": [
    "# Discussion of Initial Exploration\n",
    "\n",
    "\n",
    "Through some basic grouping and aggregating, we can sort our agents based on both the total number of debts that they have recovered with their phone calls, as well as their success ratio in recovering debt based on the calls that they've made. \n",
    "\n",
    "The success ratio is likely a better indicator of performance than the total number of successful debt recoveries, as we see that many of the agents with the most recovered debts have medicre rations of recovery, and thus the number of debts recovered does not necessarily indicate how well they are performing, as is the case with the agents who have the lowest number of debts recovered.\n",
    "\n",
    "The agents with the best and worst success ratios should be further analyzed to see what types of practices they undergo and find those in common between the most and least successful performers.\n",
    "\n",
    "The call centre data shows that call centre four is performing significantly better than the other three call centres, so this should probably be further investigated for any differences between the other call centres that could be causing this.\n",
    "\n",
    "Also, regarding the supervisor IDs, we can see that agents under supervisors 10, 7, and 9 all have significantly higher success ratios than the rest of the supervisors, so the practices undergone by these supervisors should also be analyzed and compared with the rest of the supervisors to find underlying causes for these, and perhaps investigate the types of practices these supervisors have and if there are any trends between the the most successful or least successful supervisors."
   ]
  },
  {
   "cell_type": "markdown",
   "metadata": {},
   "source": [
    "# Feature Level Analysis\n",
    "Analyzing different features in how much they're influencing a predictive model for if a call will be successful or not."
   ]
  },
  {
   "cell_type": "markdown",
   "metadata": {},
   "source": [
    "Just using features from the second dataset."
   ]
  },
  {
   "cell_type": "code",
   "execution_count": 24,
   "metadata": {
    "collapsed": false
   },
   "outputs": [],
   "source": [
    "stats.drop('name', axis=1, inplace=True)"
   ]
  },
  {
   "cell_type": "code",
   "execution_count": 25,
   "metadata": {
    "collapsed": false
   },
   "outputs": [],
   "source": [
    "#Converting these to strings so that they're used as categorical data\n",
    "stats['call_centre_id'] = stats['call_centre_id'].astype(str)\n",
    "stats['supervisor_id'] = stats['supervisor_id'].astype(str)\n",
    "stats['agent'] = stats['agent'].astype(str)"
   ]
  },
  {
   "cell_type": "code",
   "execution_count": 40,
   "metadata": {
    "collapsed": false
   },
   "outputs": [],
   "source": [
    "stats['seniority'] = df['seniority']"
   ]
  },
  {
   "cell_type": "code",
   "execution_count": 41,
   "metadata": {
    "collapsed": false
   },
   "outputs": [
    {
     "data": {
      "text/html": [
       "<div>\n",
       "<style>\n",
       "    .dataframe thead tr:only-child th {\n",
       "        text-align: right;\n",
       "    }\n",
       "\n",
       "    .dataframe thead th {\n",
       "        text-align: left;\n",
       "    }\n",
       "\n",
       "    .dataframe tbody tr th {\n",
       "        vertical-align: top;\n",
       "    }\n",
       "</style>\n",
       "<table border=\"1\" class=\"dataframe\">\n",
       "  <thead>\n",
       "    <tr style=\"text-align: right;\">\n",
       "      <th></th>\n",
       "      <th>default</th>\n",
       "      <th>agent</th>\n",
       "      <th>call_centre_id</th>\n",
       "      <th>supervisor_id</th>\n",
       "      <th>seniority</th>\n",
       "    </tr>\n",
       "  </thead>\n",
       "  <tbody>\n",
       "    <tr>\n",
       "      <th>0</th>\n",
       "      <td>1</td>\n",
       "      <td>1032</td>\n",
       "      <td>1</td>\n",
       "      <td>3</td>\n",
       "      <td>0.990046</td>\n",
       "    </tr>\n",
       "    <tr>\n",
       "      <th>1</th>\n",
       "      <td>1</td>\n",
       "      <td>1050</td>\n",
       "      <td>2</td>\n",
       "      <td>5</td>\n",
       "      <td>-2.458420</td>\n",
       "    </tr>\n",
       "    <tr>\n",
       "      <th>3</th>\n",
       "      <td>0</td>\n",
       "      <td>1014</td>\n",
       "      <td>3</td>\n",
       "      <td>7</td>\n",
       "      <td>1.508826</td>\n",
       "    </tr>\n",
       "    <tr>\n",
       "      <th>5</th>\n",
       "      <td>0</td>\n",
       "      <td>1032</td>\n",
       "      <td>1</td>\n",
       "      <td>3</td>\n",
       "      <td>0.990046</td>\n",
       "    </tr>\n",
       "    <tr>\n",
       "      <th>7</th>\n",
       "      <td>0</td>\n",
       "      <td>1053</td>\n",
       "      <td>4</td>\n",
       "      <td>9</td>\n",
       "      <td>-0.532538</td>\n",
       "    </tr>\n",
       "  </tbody>\n",
       "</table>\n",
       "</div>"
      ],
      "text/plain": [
       "   default agent call_centre_id supervisor_id  seniority\n",
       "0        1  1032              1             3   0.990046\n",
       "1        1  1050              2             5  -2.458420\n",
       "3        0  1014              3             7   1.508826\n",
       "5        0  1032              1             3   0.990046\n",
       "7        0  1053              4             9  -0.532538"
      ]
     },
     "execution_count": 41,
     "metadata": {},
     "output_type": "execute_result"
    }
   ],
   "source": [
    "stats.head()"
   ]
  },
  {
   "cell_type": "code",
   "execution_count": 42,
   "metadata": {
    "collapsed": false
   },
   "outputs": [],
   "source": [
    "X_train = stats.drop(['default'], 1)\n",
    "Y_train = stats['default']\n",
    "\n",
    "clf = ExtraTreesClassifier()\n",
    "clf.fit(X_train,Y_train)\n",
    "\n",
    "\n",
    "importances = list(clf.feature_importances_ )\n",
    "names = ['Agent', 'Call Centre', 'Supervisor ID', 'Seniority']"
   ]
  },
  {
   "cell_type": "code",
   "execution_count": 43,
   "metadata": {
    "collapsed": false
   },
   "outputs": [
    {
     "data": {
      "image/png": "[encoded data removed]",
      "text/plain": [
       "<matplotlib.figure.Figure at 0x1c1dfee9be0>"
      ]
     },
     "metadata": {},
     "output_type": "display_data"
    }
   ],
   "source": [
    "plot = sns.barplot(x=importances, y=names, orient='h')\n",
    "plot = plot.set(xlabel='Relative Importance of Attribute', title='Tree-Based Feature Selection')"
   ]
  },
  {
   "cell_type": "code",
   "execution_count": 26,
   "metadata": {
    "collapsed": false
   },
   "outputs": [],
   "source": [
    "#Gathering and processing the Kaggle dataset, standardizing numeric features and one-hot-encoding categorical features\n",
    "df = pd.read_csv('UCI_Credit_Card.csv')\n",
    "df.rename(columns = {'default.payment.next.month':'default'}, inplace=True)\n",
    "sex = pd.get_dummies(df['SEX'])\n",
    "sex.columns = ['MALE', 'FEMALE']\n",
    "marriage = pd.get_dummies(df['MARRIAGE'])\n",
    "marriage.columns = ['UNKNOWN', 'MARRIED', 'SINGLE', 'OTHER']\n",
    "label = df['default']\n",
    "df.drop(df.columns[[0, 2, 4, 24]], axis=1, inplace=True)\n",
    "df = (df - df.mean()) / df.std()\n",
    "df['MALE'] = sex['MALE']\n",
    "df['FEMALE'] = sex['FEMALE']\n",
    "df['UNKNOWN'] = marriage['UNKNOWN']\n",
    "df['MARRIED'] = marriage['MARRIED']\n",
    "df['SINGLE'] = marriage['SINGLE']\n",
    "df['OTHER'] = marriage['OTHER']"
   ]
  },
  {
   "cell_type": "code",
   "execution_count": 27,
   "metadata": {
    "collapsed": false
   },
   "outputs": [
    {
     "data": {
      "text/html": [
       "<div>\n",
       "<style>\n",
       "    .dataframe thead tr:only-child th {\n",
       "        text-align: right;\n",
       "    }\n",
       "\n",
       "    .dataframe thead th {\n",
       "        text-align: left;\n",
       "    }\n",
       "\n",
       "    .dataframe tbody tr th {\n",
       "        vertical-align: top;\n",
       "    }\n",
       "</style>\n",
       "<table border=\"1\" class=\"dataframe\">\n",
       "  <thead>\n",
       "    <tr style=\"text-align: right;\">\n",
       "      <th></th>\n",
       "      <th>LIMIT_BAL</th>\n",
       "      <th>EDUCATION</th>\n",
       "      <th>AGE</th>\n",
       "      <th>PAY_0</th>\n",
       "      <th>PAY_2</th>\n",
       "      <th>PAY_3</th>\n",
       "      <th>PAY_4</th>\n",
       "      <th>PAY_5</th>\n",
       "      <th>PAY_6</th>\n",
       "      <th>BILL_AMT1</th>\n",
       "      <th>...</th>\n",
       "      <th>PAY_AMT3</th>\n",
       "      <th>PAY_AMT4</th>\n",
       "      <th>PAY_AMT5</th>\n",
       "      <th>PAY_AMT6</th>\n",
       "      <th>MALE</th>\n",
       "      <th>FEMALE</th>\n",
       "      <th>UNKNOWN</th>\n",
       "      <th>MARRIED</th>\n",
       "      <th>SINGLE</th>\n",
       "      <th>OTHER</th>\n",
       "    </tr>\n",
       "  </thead>\n",
       "  <tbody>\n",
       "    <tr>\n",
       "      <th>0</th>\n",
       "      <td>-1.136701</td>\n",
       "      <td>0.185825</td>\n",
       "      <td>-1.245999</td>\n",
       "      <td>1.794534</td>\n",
       "      <td>1.782318</td>\n",
       "      <td>-0.696652</td>\n",
       "      <td>-0.666588</td>\n",
       "      <td>-1.530021</td>\n",
       "      <td>-1.486016</td>\n",
       "      <td>-0.642490</td>\n",
       "      <td>...</td>\n",
       "      <td>-0.296796</td>\n",
       "      <td>-0.308057</td>\n",
       "      <td>-0.314131</td>\n",
       "      <td>-0.293377</td>\n",
       "      <td>0</td>\n",
       "      <td>1</td>\n",
       "      <td>0</td>\n",
       "      <td>1</td>\n",
       "      <td>0</td>\n",
       "      <td>0</td>\n",
       "    </tr>\n",
       "    <tr>\n",
       "      <th>1</th>\n",
       "      <td>-0.365974</td>\n",
       "      <td>0.185825</td>\n",
       "      <td>-1.029030</td>\n",
       "      <td>-0.874977</td>\n",
       "      <td>1.782318</td>\n",
       "      <td>0.138862</td>\n",
       "      <td>0.188743</td>\n",
       "      <td>0.234913</td>\n",
       "      <td>1.992282</td>\n",
       "      <td>-0.659208</td>\n",
       "      <td>...</td>\n",
       "      <td>-0.240001</td>\n",
       "      <td>-0.244226</td>\n",
       "      <td>-0.314131</td>\n",
       "      <td>-0.180875</td>\n",
       "      <td>0</td>\n",
       "      <td>1</td>\n",
       "      <td>0</td>\n",
       "      <td>0</td>\n",
       "      <td>1</td>\n",
       "      <td>0</td>\n",
       "    </tr>\n",
       "    <tr>\n",
       "      <th>2</th>\n",
       "      <td>-0.597192</td>\n",
       "      <td>0.185825</td>\n",
       "      <td>-0.161154</td>\n",
       "      <td>0.014860</td>\n",
       "      <td>0.111734</td>\n",
       "      <td>0.138862</td>\n",
       "      <td>0.188743</td>\n",
       "      <td>0.234913</td>\n",
       "      <td>0.253133</td>\n",
       "      <td>-0.298555</td>\n",
       "      <td>...</td>\n",
       "      <td>-0.240001</td>\n",
       "      <td>-0.244226</td>\n",
       "      <td>-0.248679</td>\n",
       "      <td>-0.012122</td>\n",
       "      <td>0</td>\n",
       "      <td>1</td>\n",
       "      <td>0</td>\n",
       "      <td>0</td>\n",
       "      <td>1</td>\n",
       "      <td>0</td>\n",
       "    </tr>\n",
       "    <tr>\n",
       "      <th>3</th>\n",
       "      <td>-0.905483</td>\n",
       "      <td>0.185825</td>\n",
       "      <td>0.164300</td>\n",
       "      <td>0.014860</td>\n",
       "      <td>0.111734</td>\n",
       "      <td>0.138862</td>\n",
       "      <td>0.188743</td>\n",
       "      <td>0.234913</td>\n",
       "      <td>0.253133</td>\n",
       "      <td>-0.057490</td>\n",
       "      <td>...</td>\n",
       "      <td>-0.228641</td>\n",
       "      <td>-0.237842</td>\n",
       "      <td>-0.244162</td>\n",
       "      <td>-0.237126</td>\n",
       "      <td>0</td>\n",
       "      <td>1</td>\n",
       "      <td>0</td>\n",
       "      <td>1</td>\n",
       "      <td>0</td>\n",
       "      <td>0</td>\n",
       "    </tr>\n",
       "    <tr>\n",
       "      <th>4</th>\n",
       "      <td>-0.905483</td>\n",
       "      <td>0.185825</td>\n",
       "      <td>2.333990</td>\n",
       "      <td>-0.874977</td>\n",
       "      <td>0.111734</td>\n",
       "      <td>-0.696652</td>\n",
       "      <td>0.188743</td>\n",
       "      <td>0.234913</td>\n",
       "      <td>0.253133</td>\n",
       "      <td>-0.578608</td>\n",
       "      <td>...</td>\n",
       "      <td>0.271161</td>\n",
       "      <td>0.266429</td>\n",
       "      <td>-0.269034</td>\n",
       "      <td>-0.255183</td>\n",
       "      <td>1</td>\n",
       "      <td>0</td>\n",
       "      <td>0</td>\n",
       "      <td>1</td>\n",
       "      <td>0</td>\n",
       "      <td>0</td>\n",
       "    </tr>\n",
       "  </tbody>\n",
       "</table>\n",
       "<p>5 rows × 27 columns</p>\n",
       "</div>"
      ],
      "text/plain": [
       "   LIMIT_BAL  EDUCATION       AGE     PAY_0     PAY_2     PAY_3     PAY_4  \\\n",
       "0  -1.136701   0.185825 -1.245999  1.794534  1.782318 -0.696652 -0.666588   \n",
       "1  -0.365974   0.185825 -1.029030 -0.874977  1.782318  0.138862  0.188743   \n",
       "2  -0.597192   0.185825 -0.161154  0.014860  0.111734  0.138862  0.188743   \n",
       "3  -0.905483   0.185825  0.164300  0.014860  0.111734  0.138862  0.188743   \n",
       "4  -0.905483   0.185825  2.333990 -0.874977  0.111734 -0.696652  0.188743   \n",
       "\n",
       "      PAY_5     PAY_6  BILL_AMT1  ...    PAY_AMT3  PAY_AMT4  PAY_AMT5  \\\n",
       "0 -1.530021 -1.486016  -0.642490  ...   -0.296796 -0.308057 -0.314131   \n",
       "1  0.234913  1.992282  -0.659208  ...   -0.240001 -0.244226 -0.314131   \n",
       "2  0.234913  0.253133  -0.298555  ...   -0.240001 -0.244226 -0.248679   \n",
       "3  0.234913  0.253133  -0.057490  ...   -0.228641 -0.237842 -0.244162   \n",
       "4  0.234913  0.253133  -0.578608  ...    0.271161  0.266429 -0.269034   \n",
       "\n",
       "   PAY_AMT6  MALE  FEMALE  UNKNOWN  MARRIED  SINGLE  OTHER  \n",
       "0 -0.293377     0       1        0        1       0      0  \n",
       "1 -0.180875     0       1        0        0       1      0  \n",
       "2 -0.012122     0       1        0        0       1      0  \n",
       "3 -0.237126     0       1        0        1       0      0  \n",
       "4 -0.255183     1       0        0        1       0      0  \n",
       "\n",
       "[5 rows x 27 columns]"
      ]
     },
     "execution_count": 27,
     "metadata": {},
     "output_type": "execute_result"
    }
   ],
   "source": [
    "df.head()"
   ]
  },
  {
   "cell_type": "code",
   "execution_count": 28,
   "metadata": {
    "collapsed": false
   },
   "outputs": [],
   "source": [
    "#Feature importances of the Kaggle dataset\n",
    "X_train = df\n",
    "Y_train = label\n",
    "\n",
    "clf = ExtraTreesClassifier()\n",
    "clf.fit(X_train,Y_train)\n",
    "\n",
    "\n",
    "importances = list(clf.feature_importances_ )\n",
    "names = list(df)"
   ]
  },
  {
   "cell_type": "code",
   "execution_count": 29,
   "metadata": {
    "collapsed": false
   },
   "outputs": [
    {
     "data": {
      "image/png": "[encoded data removed]",
      "text/plain": [
       "<matplotlib.figure.Figure at 0x1c1df449cc0>"
      ]
     },
     "metadata": {},
     "output_type": "display_data"
    }
   ],
   "source": [
    "plot = sns.barplot(x=importances, y=names, orient='h')\n",
    "plot = plot.set(xlabel='Relative Importance of Attribute', title='Tree-Based Feature Selection')"
   ]
  },
  {
   "cell_type": "markdown",
   "metadata": {},
   "source": [
    "Since the gender and marital status do not seem to have a large influence on predicting whether a customer will default or not,  I'll remove them from the dataset. Next thing I want to see is the comparitive predictive power of the features in the Kaggle dataset to the features regarding the agents, supervisors, hire dates, and call centres. I'm going to make a dataset combining the two, and remove the data which doesn't have an agent in it."
   ]
  },
  {
   "cell_type": "code",
   "execution_count": 30,
   "metadata": {
    "collapsed": true
   },
   "outputs": [],
   "source": [
    "df = df.drop(['MALE', 'FEMALE', 'UNKNOWN', 'MARRIED', 'SINGLE', 'OTHER'], axis=1)"
   ]
  },
  {
   "cell_type": "code",
   "execution_count": 31,
   "metadata": {
    "collapsed": false
   },
   "outputs": [],
   "source": [
    "#Combining the Kaggle dataset with the call information dataset\n",
    "df2 = pd.read_csv('UCI_Credit_Card.csv')\n",
    "df['ID'] = df2['ID']\n",
    "\n",
    "debtor_to_agent = {}\n",
    "agent_to_callcentre = {}\n",
    "agent_to_supervisor = {}\n",
    "agent_to_hiredate = {}\n",
    "for index, row in calls.iterrows():\n",
    "    debtor_to_agent[row['debtor_id']] = row['agent_id']\n",
    "\n",
    "for index, row in agents.iterrows():\n",
    "    agent_to_callcentre[row['id']] = row['call_centre_id']\n",
    "    agent_to_supervisor[row['id']] = row['supervisor_id']\n",
    "    agent_to_hiredate[row['id']] = row['hire_date']\n",
    "\n",
    "agents_list = []\n",
    "\n",
    "\n",
    "for item in list(df['ID']):\n",
    "    try:\n",
    "        agents_list.append(debtor_to_agent[item])\n",
    "    except:\n",
    "        agents_list.append(0)\n",
    "        \n",
    "df['agent'] = agents_list\n",
    "\n",
    "callcentre_list = []\n",
    "supervisor_list = []\n",
    "hiredate_list = []\n",
    "\n",
    "for item in list(df['agent']):\n",
    "    try:\n",
    "        callcentre_list.append(agent_to_callcentre[item])\n",
    "    except:\n",
    "        callcentre_list.append(0)\n",
    "        \n",
    "    try:\n",
    "        supervisor_list.append(agent_to_supervisor[item])\n",
    "    except:\n",
    "        supervisor_list.append(0)\n",
    "        \n",
    "    try:\n",
    "        hiredate_list.append(agent_to_hiredate[item])\n",
    "    except:\n",
    "        hiredate_list.append(0)\n",
    "\n",
    "df['call_centre_id'] = callcentre_list\n",
    "df['supervisor_id'] = supervisor_list\n",
    "df['hiredate'] = hiredate_list\n",
    "     \n",
    "        \n",
    " "
   ]
  },
  {
   "cell_type": "code",
   "execution_count": 32,
   "metadata": {
    "collapsed": true
   },
   "outputs": [],
   "source": [
    "df = df[df.agent != 0]"
   ]
  },
  {
   "cell_type": "code",
   "execution_count": 33,
   "metadata": {
    "collapsed": true
   },
   "outputs": [],
   "source": [
    "#Converting the time since being hired into a feature called seniority, which numerically represents how long the agent has been working\n",
    "def convert_date(date):\n",
    "    current_year = 17\n",
    "    current_day = 20\n",
    "    current_month = 6\n",
    "    mdy = date.split('-')\n",
    "    if mdy[0][0] == 0:\n",
    "        mdy[0] = int(mdy[0][1])\n",
    "    if mdy[1][0] == 0:\n",
    "        mdy[1] = int(mdy[1][1])\n",
    "    \n",
    "    year_diff = current_year - int(mdy[2])\n",
    "    month_diff = current_month - int(mdy[0])\n",
    "    day_diff = current_day - int(mdy[1])\n",
    "    \n",
    "    time_since_hire = 365 * year_diff + 30 * month_diff + day_diff\n",
    "    return time_since_hire"
   ]
  },
  {
   "cell_type": "code",
   "execution_count": 34,
   "metadata": {
    "collapsed": false
   },
   "outputs": [],
   "source": [
    "df['seniority'] = df['hiredate'].map(convert_date)"
   ]
  },
  {
   "cell_type": "code",
   "execution_count": 35,
   "metadata": {
    "collapsed": false
   },
   "outputs": [
    {
     "data": {
      "text/html": [
       "<div>\n",
       "<style>\n",
       "    .dataframe thead tr:only-child th {\n",
       "        text-align: right;\n",
       "    }\n",
       "\n",
       "    .dataframe thead th {\n",
       "        text-align: left;\n",
       "    }\n",
       "\n",
       "    .dataframe tbody tr th {\n",
       "        vertical-align: top;\n",
       "    }\n",
       "</style>\n",
       "<table border=\"1\" class=\"dataframe\">\n",
       "  <thead>\n",
       "    <tr style=\"text-align: right;\">\n",
       "      <th></th>\n",
       "      <th>LIMIT_BAL</th>\n",
       "      <th>EDUCATION</th>\n",
       "      <th>AGE</th>\n",
       "      <th>PAY_0</th>\n",
       "      <th>PAY_2</th>\n",
       "      <th>PAY_3</th>\n",
       "      <th>PAY_4</th>\n",
       "      <th>PAY_5</th>\n",
       "      <th>PAY_6</th>\n",
       "      <th>BILL_AMT1</th>\n",
       "      <th>...</th>\n",
       "      <th>PAY_AMT3</th>\n",
       "      <th>PAY_AMT4</th>\n",
       "      <th>PAY_AMT5</th>\n",
       "      <th>PAY_AMT6</th>\n",
       "      <th>ID</th>\n",
       "      <th>agent</th>\n",
       "      <th>call_centre_id</th>\n",
       "      <th>supervisor_id</th>\n",
       "      <th>hiredate</th>\n",
       "      <th>seniority</th>\n",
       "    </tr>\n",
       "  </thead>\n",
       "  <tbody>\n",
       "    <tr>\n",
       "      <th>0</th>\n",
       "      <td>-1.136701</td>\n",
       "      <td>0.185825</td>\n",
       "      <td>-1.245999</td>\n",
       "      <td>1.794534</td>\n",
       "      <td>1.782318</td>\n",
       "      <td>-0.696652</td>\n",
       "      <td>-0.666588</td>\n",
       "      <td>-1.530021</td>\n",
       "      <td>-1.486016</td>\n",
       "      <td>-0.642490</td>\n",
       "      <td>...</td>\n",
       "      <td>-0.296796</td>\n",
       "      <td>-0.308057</td>\n",
       "      <td>-0.314131</td>\n",
       "      <td>-0.293377</td>\n",
       "      <td>1</td>\n",
       "      <td>1032</td>\n",
       "      <td>1</td>\n",
       "      <td>3</td>\n",
       "      <td>05-21-11</td>\n",
       "      <td>2219</td>\n",
       "    </tr>\n",
       "    <tr>\n",
       "      <th>1</th>\n",
       "      <td>-0.365974</td>\n",
       "      <td>0.185825</td>\n",
       "      <td>-1.029030</td>\n",
       "      <td>-0.874977</td>\n",
       "      <td>1.782318</td>\n",
       "      <td>0.138862</td>\n",
       "      <td>0.188743</td>\n",
       "      <td>0.234913</td>\n",
       "      <td>1.992282</td>\n",
       "      <td>-0.659208</td>\n",
       "      <td>...</td>\n",
       "      <td>-0.240001</td>\n",
       "      <td>-0.244226</td>\n",
       "      <td>-0.314131</td>\n",
       "      <td>-0.180875</td>\n",
       "      <td>2</td>\n",
       "      <td>1050</td>\n",
       "      <td>2</td>\n",
       "      <td>5</td>\n",
       "      <td>09-17-16</td>\n",
       "      <td>278</td>\n",
       "    </tr>\n",
       "    <tr>\n",
       "      <th>3</th>\n",
       "      <td>-0.905483</td>\n",
       "      <td>0.185825</td>\n",
       "      <td>0.164300</td>\n",
       "      <td>0.014860</td>\n",
       "      <td>0.111734</td>\n",
       "      <td>0.138862</td>\n",
       "      <td>0.188743</td>\n",
       "      <td>0.234913</td>\n",
       "      <td>0.253133</td>\n",
       "      <td>-0.057490</td>\n",
       "      <td>...</td>\n",
       "      <td>-0.228641</td>\n",
       "      <td>-0.237842</td>\n",
       "      <td>-0.244162</td>\n",
       "      <td>-0.237126</td>\n",
       "      <td>4</td>\n",
       "      <td>1014</td>\n",
       "      <td>3</td>\n",
       "      <td>7</td>\n",
       "      <td>08-04-10</td>\n",
       "      <td>2511</td>\n",
       "    </tr>\n",
       "    <tr>\n",
       "      <th>5</th>\n",
       "      <td>-0.905483</td>\n",
       "      <td>-1.079439</td>\n",
       "      <td>0.164300</td>\n",
       "      <td>0.014860</td>\n",
       "      <td>0.111734</td>\n",
       "      <td>0.138862</td>\n",
       "      <td>0.188743</td>\n",
       "      <td>0.234913</td>\n",
       "      <td>0.253133</td>\n",
       "      <td>0.178944</td>\n",
       "      <td>...</td>\n",
       "      <td>-0.259482</td>\n",
       "      <td>-0.244226</td>\n",
       "      <td>-0.248679</td>\n",
       "      <td>-0.248376</td>\n",
       "      <td>6</td>\n",
       "      <td>1032</td>\n",
       "      <td>1</td>\n",
       "      <td>3</td>\n",
       "      <td>05-21-11</td>\n",
       "      <td>2219</td>\n",
       "    </tr>\n",
       "    <tr>\n",
       "      <th>7</th>\n",
       "      <td>-0.520120</td>\n",
       "      <td>0.185825</td>\n",
       "      <td>-1.354484</td>\n",
       "      <td>0.014860</td>\n",
       "      <td>-0.723558</td>\n",
       "      <td>-0.696652</td>\n",
       "      <td>0.188743</td>\n",
       "      <td>0.234913</td>\n",
       "      <td>-0.616441</td>\n",
       "      <td>-0.534350</td>\n",
       "      <td>...</td>\n",
       "      <td>-0.296796</td>\n",
       "      <td>-0.270971</td>\n",
       "      <td>-0.203713</td>\n",
       "      <td>-0.206638</td>\n",
       "      <td>8</td>\n",
       "      <td>1053</td>\n",
       "      <td>4</td>\n",
       "      <td>9</td>\n",
       "      <td>09-28-13</td>\n",
       "      <td>1362</td>\n",
       "    </tr>\n",
       "  </tbody>\n",
       "</table>\n",
       "<p>5 rows × 27 columns</p>\n",
       "</div>"
      ],
      "text/plain": [
       "   LIMIT_BAL  EDUCATION       AGE     PAY_0     PAY_2     PAY_3     PAY_4  \\\n",
       "0  -1.136701   0.185825 -1.245999  1.794534  1.782318 -0.696652 -0.666588   \n",
       "1  -0.365974   0.185825 -1.029030 -0.874977  1.782318  0.138862  0.188743   \n",
       "3  -0.905483   0.185825  0.164300  0.014860  0.111734  0.138862  0.188743   \n",
       "5  -0.905483  -1.079439  0.164300  0.014860  0.111734  0.138862  0.188743   \n",
       "7  -0.520120   0.185825 -1.354484  0.014860 -0.723558 -0.696652  0.188743   \n",
       "\n",
       "      PAY_5     PAY_6  BILL_AMT1    ...      PAY_AMT3  PAY_AMT4  PAY_AMT5  \\\n",
       "0 -1.530021 -1.486016  -0.642490    ...     -0.296796 -0.308057 -0.314131   \n",
       "1  0.234913  1.992282  -0.659208    ...     -0.240001 -0.244226 -0.314131   \n",
       "3  0.234913  0.253133  -0.057490    ...     -0.228641 -0.237842 -0.244162   \n",
       "5  0.234913  0.253133   0.178944    ...     -0.259482 -0.244226 -0.248679   \n",
       "7  0.234913 -0.616441  -0.534350    ...     -0.296796 -0.270971 -0.203713   \n",
       "\n",
       "   PAY_AMT6  ID  agent  call_centre_id  supervisor_id  hiredate  seniority  \n",
       "0 -0.293377   1   1032               1              3  05-21-11       2219  \n",
       "1 -0.180875   2   1050               2              5  09-17-16        278  \n",
       "3 -0.237126   4   1014               3              7  08-04-10       2511  \n",
       "5 -0.248376   6   1032               1              3  05-21-11       2219  \n",
       "7 -0.206638   8   1053               4              9  09-28-13       1362  \n",
       "\n",
       "[5 rows x 27 columns]"
      ]
     },
     "execution_count": 35,
     "metadata": {},
     "output_type": "execute_result"
    }
   ],
   "source": [
    "df.head()"
   ]
  },
  {
   "cell_type": "code",
   "execution_count": 36,
   "metadata": {
    "collapsed": false
   },
   "outputs": [],
   "source": [
    "df['seniority'] =(df['seniority'] - df['seniority'].mean()) / df['seniority'].std()"
   ]
  },
  {
   "cell_type": "code",
   "execution_count": 37,
   "metadata": {
    "collapsed": false
   },
   "outputs": [],
   "source": [
    "#Converting these features into categorical features\n",
    "df = df.drop(['ID', 'hiredate'], axis=1)\n",
    "df['call_centre_id'] = df['call_centre_id'].astype(str)\n",
    "df['supervisor_id'] = df['supervisor_id'].astype(str)\n",
    "df['agent'] = df['agent'].astype(str)"
   ]
  },
  {
   "cell_type": "code",
   "execution_count": 38,
   "metadata": {
    "collapsed": false
   },
   "outputs": [],
   "source": [
    "#Feature analysis on the combined dataset\n",
    "X_train = df\n",
    "Y_train = collections['default']\n",
    "\n",
    "clf = ExtraTreesClassifier()\n",
    "clf.fit(X_train,Y_train)\n",
    "\n",
    "\n",
    "importances = list(clf.feature_importances_ )\n",
    "names = list(df)"
   ]
  },
  {
   "cell_type": "code",
   "execution_count": 39,
   "metadata": {
    "collapsed": false
   },
   "outputs": [
    {
     "data": {
      "image/png": "[encoded data removed]",
      "text/plain": [
       "<matplotlib.figure.Figure at 0x1c1df44a6d8>"
      ]
     },
     "metadata": {},
     "output_type": "display_data"
    }
   ],
   "source": [
    "plot = sns.barplot(x=importances, y=names, orient='h')\n",
    "plot = plot.set(xlabel='Relative Importance of Attribute', title='Tree-Based Feature Selection')"
   ]
  },
  {
   "cell_type": "markdown",
   "metadata": {},
   "source": [
    "## Correlation Heatmap of Numeric Attributes"
   ]
  },
  {
   "cell_type": "code",
   "execution_count": 44,
   "metadata": {
    "collapsed": false
   },
   "outputs": [
    {
     "data": {
      "image/png": "[encoded data removed]",
      "text/plain": [
       "<matplotlib.figure.Figure at 0x1c1db5f1c18>"
      ]
     },
     "metadata": {},
     "output_type": "display_data"
    }
   ],
   "source": [
    "sns.set(context=\"paper\", font=\"monospace\")\n",
    "\n",
    "corrmat = df.corr()\n",
    "\n",
    "f, ax = plt.subplots(figsize=(12, 9))\n",
    "\n",
    "sns.heatmap(corrmat, vmax=.8, square=True)\n",
    "\n",
    "        \n",
    "f.tight_layout()"
   ]
  },
  {
   "cell_type": "markdown",
   "metadata": {},
   "source": [
    "# Feature Analysis Discussion\n",
    "\n",
    "Based on just the features given regarding the agents, we can see that the call centre and the agents' supervisor tend to be very influencial features when considering predicting whether a call will result in the debt being repayed or not, further reinforcing the need to further investigate what is causing the large discrepancy in success rates of different call centres and agents that are under certain supervisors.\n",
    "\n",
    "Compared to the other feature information from the Kaggle dataset, information about the agents making calls to them has high importance in its prediction along with the specific information about the debtor.\n",
    "\n",
    "The correlation between attributes shows that since the PAY and BILL features are highly correlated, perhaps we can do some elimination on those without losing predictive performance."
   ]
  },
  {
   "cell_type": "markdown",
   "metadata": {},
   "source": [
    "# Default Predictor Performance Using Agent Data"
   ]
  },
  {
   "cell_type": "code",
   "execution_count": 47,
   "metadata": {
    "collapsed": false
   },
   "outputs": [
    {
     "name": "stdout",
     "output_type": "stream",
     "text": [
      "Training accuracy: 1.0\n",
      "Test accuracy: 0.821982567588\n",
      "{'n_estimators': 100, 'n_jobs': 5}\n"
     ]
    }
   ],
   "source": [
    "#Retraining a classifier using the combined dataset to compare with performance on just the Kaggle data\n",
    "X = df\n",
    "y = collections['default']\n",
    "\n",
    "X_train, X_test, y_train, y_test = train_test_split(X, y, test_size=0.33, random_state=42)\n",
    "\n",
    "param_grid = {'n_jobs': [5, 10, 12, 15, 20],\n",
    "             'n_estimators': [100, 300, 500, 1000]}\n",
    "model = GridSearchCV(RandomForestClassifier(), param_grid)\n",
    "model.fit(X_train, y_train)\n",
    "\n",
    "print('Training accuracy:', model.score(np.array(X_train),np.array(y_train)))\n",
    "print('Test accuracy:', model.score(np.array(X_test), np.array(y_test)))\n",
    "print(model.best_params_)"
   ]
  },
  {
   "cell_type": "markdown",
   "metadata": {},
   "source": [
    "# Conclusion\n",
    "\n",
    "Based on this brief analysis, there is evidently a large variance in the success of the different agents' in reclaiming debts using phone calls. Agents with larger number of total debts reclaimed did not correlate strongly with their success rates in retrieving the debt.\n",
    "\n",
    "Moreover, there are large discrepancies between the success rates out of different call centres and from agents under different supervisors. \n",
    "\n",
    "In considering prediction of debt being defaulted, information about the agents and calls slightly improved predictive performance compared to only using the Kaggle data, but did not improve it by a significant margin. \n",
    "\n",
    "## Suggestions\n",
    "Further analysis and data should be collected on the attributes of the call centres, supervisors, and agents to try and find what are the underlying causes of the success rate discrepancies. Interviews with the top agents, the supervisors with the higher success rate of the agents under them, and analysis of call audio data from the most and least successfull agents, as well as for call centre comparison would likely lead to better insights.\n",
    "\n",
    "Specifically, call centre 4 seems to be largely outperforming the other call centres, so this might be a start for targetting what the agents in this call centre are doing differently\n",
    "\n"
   ]
  }
 ],
 "metadata": {
  "kernelspec": {
   "display_name": "Python [conda root]",
   "language": "python",
   "name": "conda-root-py"
  },
  "language_info": {
   "codemirror_mode": {
    "name": "ipython",
    "version": 3
   },
   "file_extension": ".py",
   "mimetype": "text/x-python",
   "name": "python",
   "nbconvert_exporter": "python",
   "pygments_lexer": "ipython3",
   "version": "3.6.0"
  }
 },
 "nbformat": 4,
 "nbformat_minor": 2
}
